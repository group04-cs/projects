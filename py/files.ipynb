{
 "cells": [
  {
   "cell_type": "code",
   "execution_count": 1,
   "metadata": {},
   "outputs": [],
   "source": [
    "import os\n",
    "import numpy as np\n",
    "from os.path import isfile, join\n",
    "wav=[]\n",
    "mypath = \"..\\\\data\"\n",
    "for dirname, dirnames, filenames in os.walk(mypath+\"\\\\wav\"):\n",
    "    # print path to all filenames.\n",
    "    for filename in filenames:\n",
    "        wav.append(os.path.join(dirname, filename))\n",
    "  "
   ]
  },
  {
   "cell_type": "code",
   "execution_count": 2,
   "metadata": {},
   "outputs": [
    {
     "data": {
      "text/plain": [
       "'..\\\\data\\\\wav\\\\AR\\\\S001F_A_NA.wav'"
      ]
     },
     "execution_count": 2,
     "metadata": {},
     "output_type": "execute_result"
    }
   ],
   "source": [
    "#print(wav)\n",
    "wav[0]"
   ]
  },
  {
   "cell_type": "code",
   "execution_count": 4,
   "metadata": {},
   "outputs": [],
   "source": [
    "Path=\"..\\\\data\\\\f_list\"\n",
    "wavlist = os.path.join(Path, \"wav_list.txt\")  \n",
    "with open(wavlist, 'w') as filehandle:\n",
    "    for listitem in wav:\n",
    "        filehandle.write('%s\\n' % listitem)"
   ]
  },
  {
   "cell_type": "code",
   "execution_count": 7,
   "metadata": {},
   "outputs": [],
   "source": [
    "lbl=[]\n",
    "mypath = \"..\\\\data\\\\lbl\"\n",
    "for dirname, dirnames, filenames in os.walk(mypath):\n",
    "    # print path to all filenames.\n",
    "    for filename in filenames:\n",
    "        lbl.append(os.path.join(dirname, filename))"
   ]
  },
  {
   "cell_type": "code",
   "execution_count": 14,
   "metadata": {},
   "outputs": [
    {
     "data": {
      "text/plain": [
       "'..\\\\data\\\\lbl\\\\AR\\\\S001F_A_NA.lbl.txt'"
      ]
     },
     "execution_count": 14,
     "metadata": {},
     "output_type": "execute_result"
    }
   ],
   "source": [
    "#print(lbl)\n",
    "lbl[0]"
   ]
  },
  {
   "cell_type": "code",
   "execution_count": 9,
   "metadata": {},
   "outputs": [],
   "source": [
    "Path=\"..\\\\data\\\\f_list\"\n",
    "lbllist = os.path.join(Path, \"lbl_list.txt\")  \n",
    "with open(lbllist, 'w') as filehandle:\n",
    "    for listitem in lbl:\n",
    "        filehandle.write('%s\\n' % listitem)"
   ]
  },
  {
   "cell_type": "code",
   "execution_count": null,
   "metadata": {},
   "outputs": [],
   "source": []
  },
  {
   "cell_type": "code",
   "execution_count": 10,
   "metadata": {},
   "outputs": [],
   "source": [
    "mfc=[]\n",
    "mypath = \"..\\\\data\"\n",
    "for dirname, dirnames, filenames in os.walk(mypath+\"\\\\mfcc\"):\n",
    "    # print path to all filenames.\n",
    "    for filename in filenames:\n",
    "        mfc.append(os.path.join(dirname, filename))"
   ]
  },
  {
   "cell_type": "code",
   "execution_count": 13,
   "metadata": {},
   "outputs": [
    {
     "data": {
      "text/plain": [
       "'..\\\\data\\\\mfcc\\\\AR\\\\S001F_A_NA.mfcc.txt'"
      ]
     },
     "execution_count": 13,
     "metadata": {},
     "output_type": "execute_result"
    }
   ],
   "source": [
    "mfc = np.array(mfc)\n",
    "#print(mfc)\n",
    "mfc[0]"
   ]
  },
  {
   "cell_type": "code",
   "execution_count": 12,
   "metadata": {},
   "outputs": [],
   "source": [
    "Path=\"..\\\\data\\\\f_list\"\n",
    "mfcclist = os.path.join(Path, \"mfcc_list.txt\")  \n",
    "with open(mfcclist, 'w') as filehandle:\n",
    "    for listitem in mfc:\n",
    "        filehandle.write('%s\\n' % listitem)"
   ]
  },
  {
   "cell_type": "code",
   "execution_count": 15,
   "metadata": {},
   "outputs": [],
   "source": [
    "seg=[]\n",
    "mypath = \"..\\\\data\"\n",
    "for dirname, dirnames, filenames in os.walk(mypath+\"\\\\seg\"):\n",
    "    # print path to all filenames.\n",
    "    for filename in filenames:\n",
    "        seg.append(os.path.join(dirname, filename))"
   ]
  },
  {
   "cell_type": "code",
   "execution_count": 16,
   "metadata": {},
   "outputs": [
    {
     "data": {
      "text/plain": [
       "'..\\\\data\\\\seg\\\\AR\\\\S001F_A_NA.seg.txt'"
      ]
     },
     "execution_count": 16,
     "metadata": {},
     "output_type": "execute_result"
    }
   ],
   "source": [
    "seg = np.array(seg)\n",
    "seg[0]"
   ]
  },
  {
   "cell_type": "code",
   "execution_count": 18,
   "metadata": {},
   "outputs": [],
   "source": [
    "Path=\"..\\\\data\\\\f_list\"\n",
    "seglist = os.path.join(Path, \"seg_list.txt\")  \n",
    "with open(seglist, 'w') as filehandle:\n",
    "    for listitem in seg:\n",
    "        filehandle.write('%s\\n' % listitem)"
   ]
  },
  {
   "cell_type": "code",
   "execution_count": null,
   "metadata": {},
   "outputs": [],
   "source": []
  }
 ],
 "metadata": {
  "kernelspec": {
   "display_name": "Python 3",
   "language": "python",
   "name": "python3"
  },
  "language_info": {
   "codemirror_mode": {
    "name": "ipython",
    "version": 3
   },
   "file_extension": ".py",
   "mimetype": "text/x-python",
   "name": "python",
   "nbconvert_exporter": "python",
   "pygments_lexer": "ipython3",
   "version": "3.7.4"
  }
 },
 "nbformat": 4,
 "nbformat_minor": 4
}
