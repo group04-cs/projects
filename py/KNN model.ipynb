{
 "cells": [
  {
   "cell_type": "code",
   "execution_count": 2,
   "metadata": {},
   "outputs": [],
   "source": [
    "import os\n",
    "import librosa\n",
    "import _pickle as cPickle\n",
    "from scipy.io.wavfile import read\n",
    "from pathlib import Path\n",
    "import warnings\n",
    "import numpy as np\n",
    "from sklearn import preprocessing\n",
    "import python_speech_features as mfcc\n",
    "from sklearn import metrics"
   ]
  },
  {
   "cell_type": "code",
   "execution_count": 3,
   "metadata": {},
   "outputs": [],
   "source": [
    "train_file = \"..\\\\data\\\\f_list\\\\wav_list_train.txt\"    \n",
    "test_file = \"..\\\\data\\\\f_list\\\\wav_list_test.txt\"  \n",
    "\n",
    "\n",
    "def calculate_delta(array):\n",
    "    \"\"\"Calculate and returns the delta of given feature vector matrix\"\"\"\n",
    "\n",
    "    rows,cols = array.shape\n",
    "    deltas = np.zeros((rows,20))\n",
    "    N = 2\n",
    "    for i in range(rows):\n",
    "        index = []\n",
    "        j = 1\n",
    "        while j <= N:\n",
    "            if i-j < 0:\n",
    "                first = 0\n",
    "            else:\n",
    "                first = i-j\n",
    "            if i+j > rows -1:\n",
    "                second = rows -1\n",
    "            else:\n",
    "                second = i+j\n",
    "            index.append((second,first))\n",
    "            j+=1\n",
    "        deltas[i] = ( array[index[0][0]]-array[index[0][1]] + (2 * (array[index[1][0]]-array[index[1][1]])) ) / 10\n",
    "    return deltas\n",
    "\n"
   ]
  },
  {
   "cell_type": "code",
   "execution_count": 4,
   "metadata": {},
   "outputs": [],
   "source": [
    "def extract_features(audio,rate):\n",
    "    \"\"\"extract 20 dim mfcc features from an audio, performs CMS and combines \n",
    "    delta to make it 40 dim feature vector\"\"\"    \n",
    "    \n",
    "    mfcc_feat = mfcc.mfcc(audio,rate, 0.025, 0.01,20,appendEnergy = True)\n",
    "    \n",
    "    mfcc_feat = preprocessing.scale(mfcc_feat)\n",
    "    delta = calculate_delta(mfcc_feat)\n",
    "    combined = np.hstack((mfcc_feat,delta)) \n",
    "    return combined"
   ]
  },
  {
   "cell_type": "code",
   "execution_count": 5,
   "metadata": {},
   "outputs": [],
   "source": [
    "def get_features(file_path): \n",
    "    file_paths = open(file_path,'r')\n",
    "    features_normalize = []\n",
    "    total_feature = []\n",
    "    features = np.asarray(())\n",
    "    for path in file_paths:    \n",
    "        path = path.strip()\n",
    "        file_name=os.path.basename(path)\n",
    "        \n",
    "        audio, sr1 = librosa.load(path, sr=44100)\n",
    "        data=librosa.resample(audio, sr1, 16000) #use librosa to make resample (change frome 44100 to 16000).\n",
    "        vector   = extract_features(data,16000)\n",
    "        if features.size == 0:\n",
    "            features = vector     \n",
    "        else:\n",
    "            features = np.vstack((features, vector)) \n",
    "\n",
    "        total_feature.append(features)\n",
    "    return total_feature"
   ]
  },
  {
   "cell_type": "code",
   "execution_count": 6,
   "metadata": {},
   "outputs": [
    {
     "name": "stdout",
     "output_type": "stream",
     "text": [
      "(212456, 40)\n",
      " \n",
      "(45302, 40)\n"
     ]
    }
   ],
   "source": [
    "# Getting features train\n",
    "extracted_features_train = get_features(train_file) \n",
    "final_features_train = np.vstack(extracted_features_train)\n",
    "print(final_features_train.shape)\n",
    "\n",
    "# Getting features test\n",
    "extracted_features_test = get_features(test_file) \n",
    "final_features_test = np.vstack(extracted_features_test)\n",
    "print(final_features_test.shape)\n"
   ]
  },
  {
   "cell_type": "code",
   "execution_count": 7,
   "metadata": {},
   "outputs": [],
   "source": [
    "def get_label(file_path): \n",
    "    file_paths = open(file_path,'r')\n",
    "    features_normalize = []\n",
    "    total_feature = []\n",
    "    labels = []\n",
    "    features = np.asarray(())    \n",
    "    for path in file_paths:    \n",
    "        path = path.strip()\n",
    "        file_name=os.path.basename(path)\n",
    "\n",
    "        audio, sr1 = librosa.load(path, sr=44100)\n",
    "        data=librosa.resample(audio, sr1, 16000)\n",
    "        vector   = extract_features(data,16000)\n",
    "        if features.size == 0:\n",
    "            features = vector            \n",
    "        else:\n",
    "            features = np.vstack((features, vector))\n",
    "\n",
    "        file_name=os.path.basename(path)\n",
    "        split_filename=file_name.split('_')\n",
    "        molecule_name=split_filename[0]\n",
    "        \n",
    "        for r in range(features.shape[0]):\n",
    "            labels.append(molecule_name)\n",
    "       \n",
    "    return labels"
   ]
  },
  {
   "cell_type": "code",
   "execution_count": 8,
   "metadata": {},
   "outputs": [
    {
     "name": "stdout",
     "output_type": "stream",
     "text": [
      "['S001F' 'S001F' 'S001F' ... 'S023M' 'S023M' 'S023M']\n",
      "(212456,)\n",
      " \n",
      "['S031F' 'S031F' 'S031F' ... 'S062F' 'S062F' 'S062F']\n",
      "(45302,)\n"
     ]
    }
   ],
   "source": [
    "# Getting labels train\n",
    "train_label_value = get_label(train_file)\n",
    "train_final_label = np.array(train_label_value)\n",
    "print(train_final_label)\n",
    "print(train_final_label.shape)\n",
    "print(\" \")\n",
    "\n",
    "# Getting labels test\n",
    "test_label_value = get_label(test_file)\n",
    "test_final_label = np.array(test_label_value)\n",
    "print(test_final_label)\n",
    "print(test_final_label.shape)"
   ]
  },
  {
   "cell_type": "code",
   "execution_count": 9,
   "metadata": {},
   "outputs": [],
   "source": [
    "x_train = preprocessing.StandardScaler().fit(final_features_train).transform(final_features_train.astype(float))\n",
    "y_train = train_final_label \n",
    "\n",
    "x_test =  preprocessing.StandardScaler().fit(final_features_test).transform(final_features_test.astype(float))\n",
    "y_test =  test_final_label   "
   ]
  },
  {
   "cell_type": "code",
   "execution_count": 10,
   "metadata": {},
   "outputs": [
    {
     "name": "stdout",
     "output_type": "stream",
     "text": [
      "KNeighborsClassifier(algorithm='auto', leaf_size=30, metric='minkowski',\n",
      "                     metric_params=None, n_jobs=None, n_neighbors=9, p=2,\n",
      "                     weights='uniform')\n"
     ]
    }
   ],
   "source": [
    "# make modiling\n",
    "from sklearn.neighbors import KNeighborsClassifier\n",
    "k = 9 \n",
    "neigh = KNeighborsClassifier(n_neighbors = k).fit(x_train ,y_train)\n",
    "print(neigh) "
   ]
  },
  {
   "cell_type": "code",
   "execution_count": 11,
   "metadata": {},
   "outputs": [],
   "source": [
    "# predicting\n",
    "y_pred = neigh.predict(x_test)\n",
    "#print(y_pred)"
   ]
  },
  {
   "cell_type": "code",
   "execution_count": null,
   "metadata": {},
   "outputs": [],
   "source": [
    "print(\"Train set Accuracy: \", metrics.accuracy_score(y_train, neigh.predict(x_train)))"
   ]
  },
  {
   "cell_type": "code",
   "execution_count": null,
   "metadata": {},
   "outputs": [],
   "source": [
    "print(\"Test set Accuracy: \",  metrics.accuracy_score(y_test, y_pred))"
   ]
  }
 ],
 "metadata": {
  "kernelspec": {
   "display_name": "Python 3",
   "language": "python",
   "name": "python3"
  },
  "language_info": {
   "codemirror_mode": {
    "name": "ipython",
    "version": 3
   },
   "file_extension": ".py",
   "mimetype": "text/x-python",
   "name": "python",
   "nbconvert_exporter": "python",
   "pygments_lexer": "ipython3",
   "version": "3.7.4"
  }
 },
 "nbformat": 4,
 "nbformat_minor": 2
}
